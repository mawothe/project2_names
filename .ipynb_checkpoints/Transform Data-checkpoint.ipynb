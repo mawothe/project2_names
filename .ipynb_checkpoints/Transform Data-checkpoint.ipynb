{
 "cells": [
  {
   "cell_type": "code",
   "execution_count": 1,
   "metadata": {},
   "outputs": [],
   "source": [
    "import pandas as pd"
   ]
  },
  {
   "cell_type": "code",
   "execution_count": 2,
   "metadata": {},
   "outputs": [],
   "source": [
    "NH_csv = \"./Data/States/NH.csv\"\n",
    "NH_df = pd.read_csv(NH_csv, header=None)\n",
    "\n",
    "NJ_csv = \"./Data/States/NJ.csv\"\n",
    "NJ_df = pd.read_csv(NJ_csv, header=None)\n",
    "\n",
    "NM_csv = \"./Data/States/NM.csv\"\n",
    "NM_df = pd.read_csv(NM_csv, header=None)\n",
    "\n",
    "NV_csv = \"./Data/States/NV.csv\"\n",
    "NV_df = pd.read_csv(NV_csv, header=None)\n",
    "\n",
    "NY_csv = \"./Data/States/NY.csv\"\n",
    "NY_df = pd.read_csv(NY_csv, header=None)\n",
    "\n",
    "OH_csv = \"./Data/States/OH.csv\"\n",
    "OH_df = pd.read_csv(OH_csv, header=None)\n",
    "\n",
    "OK_csv = \"./Data/States/OK.csv\"\n",
    "OK_df = pd.read_csv(OK_csv, header=None)\n",
    "\n",
    "OR_csv = \"./Data/States/OR.csv\"\n",
    "OR_df = pd.read_csv(OR_csv, header=None)\n",
    "\n",
    "PA_csv = \"./Data/States/PA.csv\"\n",
    "PA_df = pd.read_csv(PA_csv, header=None)\n",
    "\n",
    "RI_csv = \"./Data/States/RI.csv\"\n",
    "RI_df = pd.read_csv(RI_csv, header=None)"
   ]
  },
  {
   "cell_type": "code",
   "execution_count": 3,
   "metadata": {},
   "outputs": [
    {
     "name": "stdout",
     "output_type": "stream",
     "text": [
      "1247030\n"
     ]
    }
   ],
   "source": [
    "print(NH_df.shape[0]+NJ_df.shape[0]+NM_df.shape[0]+NV_df.shape[0]+NY_df.shape[0]+OH_df.shape[0]+OK_df.shape[0]+OR_df.shape[0]+PA_df.shape[0]+RI_df.shape[0])"
   ]
  },
  {
   "cell_type": "code",
   "execution_count": 4,
   "metadata": {},
   "outputs": [
    {
     "data": {
      "text/plain": [
       "(1247030, 5)"
      ]
     },
     "execution_count": 4,
     "metadata": {},
     "output_type": "execute_result"
    }
   ],
   "source": [
    "base_merge4_pd = pd.merge(RI_df,PA_df,how=\"outer\").merge(OR_df,how=\"outer\").merge(OK_df,how=\"outer\").merge(OH_df,how=\"outer\").merge(NY_df,how=\"outer\").merge(NV_df,how=\"outer\").merge(NM_df,how=\"outer\").merge(NJ_df,how=\"outer\").merge(NH_df,how=\"outer\")\n",
    "base_merge4_pd.shape"
   ]
  },
  {
   "cell_type": "code",
   "execution_count": 5,
   "metadata": {},
   "outputs": [
    {
     "data": {
      "text/html": [
       "<div>\n",
       "<style scoped>\n",
       "    .dataframe tbody tr th:only-of-type {\n",
       "        vertical-align: middle;\n",
       "    }\n",
       "\n",
       "    .dataframe tbody tr th {\n",
       "        vertical-align: top;\n",
       "    }\n",
       "\n",
       "    .dataframe thead th {\n",
       "        text-align: right;\n",
       "    }\n",
       "</style>\n",
       "<table border=\"1\" class=\"dataframe\">\n",
       "  <thead>\n",
       "    <tr style=\"text-align: right;\">\n",
       "      <th></th>\n",
       "      <th>0</th>\n",
       "      <th>1</th>\n",
       "      <th>2</th>\n",
       "      <th>3</th>\n",
       "      <th>4</th>\n",
       "    </tr>\n",
       "  </thead>\n",
       "  <tbody>\n",
       "    <tr>\n",
       "      <th>0</th>\n",
       "      <td>RI</td>\n",
       "      <td>F</td>\n",
       "      <td>1910</td>\n",
       "      <td>Mary</td>\n",
       "      <td>141</td>\n",
       "    </tr>\n",
       "    <tr>\n",
       "      <th>1</th>\n",
       "      <td>RI</td>\n",
       "      <td>F</td>\n",
       "      <td>1910</td>\n",
       "      <td>Helen</td>\n",
       "      <td>63</td>\n",
       "    </tr>\n",
       "    <tr>\n",
       "      <th>2</th>\n",
       "      <td>RI</td>\n",
       "      <td>F</td>\n",
       "      <td>1910</td>\n",
       "      <td>Margaret</td>\n",
       "      <td>55</td>\n",
       "    </tr>\n",
       "    <tr>\n",
       "      <th>3</th>\n",
       "      <td>RI</td>\n",
       "      <td>F</td>\n",
       "      <td>1910</td>\n",
       "      <td>Dorothy</td>\n",
       "      <td>54</td>\n",
       "    </tr>\n",
       "    <tr>\n",
       "      <th>4</th>\n",
       "      <td>RI</td>\n",
       "      <td>F</td>\n",
       "      <td>1910</td>\n",
       "      <td>Alice</td>\n",
       "      <td>45</td>\n",
       "    </tr>\n",
       "  </tbody>\n",
       "</table>\n",
       "</div>"
      ],
      "text/plain": [
       "    0  1     2         3    4\n",
       "0  RI  F  1910      Mary  141\n",
       "1  RI  F  1910     Helen   63\n",
       "2  RI  F  1910  Margaret   55\n",
       "3  RI  F  1910   Dorothy   54\n",
       "4  RI  F  1910     Alice   45"
      ]
     },
     "execution_count": 5,
     "metadata": {},
     "output_type": "execute_result"
    }
   ],
   "source": [
    "base_merge4_pd.head()"
   ]
  },
  {
   "cell_type": "code",
   "execution_count": 6,
   "metadata": {},
   "outputs": [],
   "source": [
    "merge4_pd=base_merge4_pd[base_merge4_pd[2]>=1959]"
   ]
  },
  {
   "cell_type": "code",
   "execution_count": 7,
   "metadata": {},
   "outputs": [
    {
     "name": "stdout",
     "output_type": "stream",
     "text": [
      "(884339, 5)\n"
     ]
    },
    {
     "data": {
      "text/html": [
       "<div>\n",
       "<style scoped>\n",
       "    .dataframe tbody tr th:only-of-type {\n",
       "        vertical-align: middle;\n",
       "    }\n",
       "\n",
       "    .dataframe tbody tr th {\n",
       "        vertical-align: top;\n",
       "    }\n",
       "\n",
       "    .dataframe thead th {\n",
       "        text-align: right;\n",
       "    }\n",
       "</style>\n",
       "<table border=\"1\" class=\"dataframe\">\n",
       "  <thead>\n",
       "    <tr style=\"text-align: right;\">\n",
       "      <th></th>\n",
       "      <th>0</th>\n",
       "      <th>1</th>\n",
       "      <th>2</th>\n",
       "      <th>3</th>\n",
       "      <th>4</th>\n",
       "    </tr>\n",
       "  </thead>\n",
       "  <tbody>\n",
       "    <tr>\n",
       "      <th>8860</th>\n",
       "      <td>RI</td>\n",
       "      <td>F</td>\n",
       "      <td>1959</td>\n",
       "      <td>Donna</td>\n",
       "      <td>357</td>\n",
       "    </tr>\n",
       "    <tr>\n",
       "      <th>8861</th>\n",
       "      <td>RI</td>\n",
       "      <td>F</td>\n",
       "      <td>1959</td>\n",
       "      <td>Susan</td>\n",
       "      <td>289</td>\n",
       "    </tr>\n",
       "    <tr>\n",
       "      <th>8862</th>\n",
       "      <td>RI</td>\n",
       "      <td>F</td>\n",
       "      <td>1959</td>\n",
       "      <td>Mary</td>\n",
       "      <td>258</td>\n",
       "    </tr>\n",
       "    <tr>\n",
       "      <th>8863</th>\n",
       "      <td>RI</td>\n",
       "      <td>F</td>\n",
       "      <td>1959</td>\n",
       "      <td>Karen</td>\n",
       "      <td>237</td>\n",
       "    </tr>\n",
       "    <tr>\n",
       "      <th>8864</th>\n",
       "      <td>RI</td>\n",
       "      <td>F</td>\n",
       "      <td>1959</td>\n",
       "      <td>Linda</td>\n",
       "      <td>230</td>\n",
       "    </tr>\n",
       "  </tbody>\n",
       "</table>\n",
       "</div>"
      ],
      "text/plain": [
       "       0  1     2      3    4\n",
       "8860  RI  F  1959  Donna  357\n",
       "8861  RI  F  1959  Susan  289\n",
       "8862  RI  F  1959   Mary  258\n",
       "8863  RI  F  1959  Karen  237\n",
       "8864  RI  F  1959  Linda  230"
      ]
     },
     "execution_count": 7,
     "metadata": {},
     "output_type": "execute_result"
    }
   ],
   "source": [
    "print(merge4_pd.shape)\n",
    "merge4_pd.head()"
   ]
  },
  {
   "cell_type": "code",
   "execution_count": 8,
   "metadata": {},
   "outputs": [],
   "source": [
    "merge4_pd.to_csv(\"./Data/31-40.csv\",index=False, header=False)"
   ]
  },
  {
   "cell_type": "code",
   "execution_count": 9,
   "metadata": {},
   "outputs": [],
   "source": [
    "MD_csv = \"./Data/States2/MD.csv\"\n",
    "MD_df = pd.read_csv(MD_csv, header=None)\n",
    "\n",
    "ME_csv = \"./Data/States2/ME.csv\"\n",
    "ME_df = pd.read_csv(ME_csv, header=None)\n",
    "\n",
    "MI_csv = \"./Data/States2/MI.csv\"\n",
    "MI_df = pd.read_csv(MI_csv, header=None)\n",
    "\n",
    "MN_csv = \"./Data/States2/MN.csv\"\n",
    "MN_df = pd.read_csv(MN_csv, header=None)\n",
    "\n",
    "MO_csv = \"./Data/States2/MO.csv\"\n",
    "MO_df = pd.read_csv(MO_csv, header=None)\n",
    "\n",
    "MS_csv = \"./Data/States2/MS.csv\"\n",
    "MS_df = pd.read_csv(MS_csv, header=None)\n",
    "\n",
    "MT_csv = \"./Data/States2/MT.csv\"\n",
    "MT_df = pd.read_csv(MT_csv, header=None)\n",
    "\n",
    "NC_csv = \"./Data/States2/NC.csv\"\n",
    "NC_df = pd.read_csv(NC_csv, header=None)\n",
    "\n",
    "ND_csv = \"./Data/States2/ND.csv\"\n",
    "ND_df = pd.read_csv(ND_csv, header=None)\n",
    "\n",
    "NE_csv = \"./Data/States2/NE.csv\"\n",
    "NE_df = pd.read_csv(NE_csv, header=None)"
   ]
  },
  {
   "cell_type": "code",
   "execution_count": 10,
   "metadata": {},
   "outputs": [
    {
     "name": "stdout",
     "output_type": "stream",
     "text": [
      "1043807\n"
     ]
    }
   ],
   "source": [
    "print(MD_df.shape[0]+ME_df.shape[0]+MI_df.shape[0]+MN_df.shape[0]+MO_df.shape[0]+MS_df.shape[0]+MT_df.shape[0]+NC_df.shape[0]+ND_df.shape[0]+NE_df.shape[0])"
   ]
  },
  {
   "cell_type": "code",
   "execution_count": 11,
   "metadata": {},
   "outputs": [
    {
     "data": {
      "text/plain": [
       "(1043807, 5)"
      ]
     },
     "execution_count": 11,
     "metadata": {},
     "output_type": "execute_result"
    }
   ],
   "source": [
    "base_merge3_pd = pd.merge(MD_df,ME_df,how=\"outer\").merge(MI_df,how=\"outer\").merge(MN_df,how=\"outer\").merge(MO_df,how=\"outer\").merge(MS_df,how=\"outer\").merge(MT_df,how=\"outer\").merge(NC_df,how=\"outer\").merge(ND_df,how=\"outer\").merge(NE_df,how=\"outer\")\n",
    "base_merge3_pd.shape"
   ]
  },
  {
   "cell_type": "code",
   "execution_count": 12,
   "metadata": {},
   "outputs": [],
   "source": [
    "merge3_pd=base_merge3_pd[base_merge3_pd[2]>=1959]"
   ]
  },
  {
   "cell_type": "code",
   "execution_count": 13,
   "metadata": {},
   "outputs": [
    {
     "name": "stdout",
     "output_type": "stream",
     "text": [
      "(684728, 5)\n"
     ]
    },
    {
     "data": {
      "text/html": [
       "<div>\n",
       "<style scoped>\n",
       "    .dataframe tbody tr th:only-of-type {\n",
       "        vertical-align: middle;\n",
       "    }\n",
       "\n",
       "    .dataframe tbody tr th {\n",
       "        vertical-align: top;\n",
       "    }\n",
       "\n",
       "    .dataframe thead th {\n",
       "        text-align: right;\n",
       "    }\n",
       "</style>\n",
       "<table border=\"1\" class=\"dataframe\">\n",
       "  <thead>\n",
       "    <tr style=\"text-align: right;\">\n",
       "      <th></th>\n",
       "      <th>0</th>\n",
       "      <th>1</th>\n",
       "      <th>2</th>\n",
       "      <th>3</th>\n",
       "      <th>4</th>\n",
       "    </tr>\n",
       "  </thead>\n",
       "  <tbody>\n",
       "    <tr>\n",
       "      <th>16393</th>\n",
       "      <td>MD</td>\n",
       "      <td>F</td>\n",
       "      <td>1959</td>\n",
       "      <td>Mary</td>\n",
       "      <td>1001</td>\n",
       "    </tr>\n",
       "    <tr>\n",
       "      <th>16394</th>\n",
       "      <td>MD</td>\n",
       "      <td>F</td>\n",
       "      <td>1959</td>\n",
       "      <td>Donna</td>\n",
       "      <td>821</td>\n",
       "    </tr>\n",
       "    <tr>\n",
       "      <th>16395</th>\n",
       "      <td>MD</td>\n",
       "      <td>F</td>\n",
       "      <td>1959</td>\n",
       "      <td>Karen</td>\n",
       "      <td>782</td>\n",
       "    </tr>\n",
       "    <tr>\n",
       "      <th>16396</th>\n",
       "      <td>MD</td>\n",
       "      <td>F</td>\n",
       "      <td>1959</td>\n",
       "      <td>Deborah</td>\n",
       "      <td>747</td>\n",
       "    </tr>\n",
       "    <tr>\n",
       "      <th>16397</th>\n",
       "      <td>MD</td>\n",
       "      <td>F</td>\n",
       "      <td>1959</td>\n",
       "      <td>Patricia</td>\n",
       "      <td>668</td>\n",
       "    </tr>\n",
       "  </tbody>\n",
       "</table>\n",
       "</div>"
      ],
      "text/plain": [
       "        0  1     2         3     4\n",
       "16393  MD  F  1959      Mary  1001\n",
       "16394  MD  F  1959     Donna   821\n",
       "16395  MD  F  1959     Karen   782\n",
       "16396  MD  F  1959   Deborah   747\n",
       "16397  MD  F  1959  Patricia   668"
      ]
     },
     "execution_count": 13,
     "metadata": {},
     "output_type": "execute_result"
    }
   ],
   "source": [
    "print(merge3_pd.shape)\n",
    "merge3_pd.head()"
   ]
  },
  {
   "cell_type": "code",
   "execution_count": 14,
   "metadata": {},
   "outputs": [],
   "source": [
    "merge3_pd.to_csv(\"./Data/21-30.csv\",index=False, header=False)"
   ]
  },
  {
   "cell_type": "code",
   "execution_count": 15,
   "metadata": {},
   "outputs": [],
   "source": [
    "KY_csv = \"./Data/States3/KY.csv\"\n",
    "KY_df = pd.read_csv(KY_csv, header=None)\n",
    "\n",
    "LA_csv = \"./Data/States3/LA.csv\"\n",
    "LA_df = pd.read_csv(LA_csv, header=None)\n",
    "\n",
    "MA_csv = \"./Data/States3/MA.csv\"\n",
    "MA_df = pd.read_csv(MA_csv, header=None)\n",
    "\n",
    "GA_csv = \"./Data/States3/GA.csv\"\n",
    "GA_df = pd.read_csv(GA_csv, header=None)\n",
    "\n",
    "HI_csv = \"./Data/States3/HI.csv\"\n",
    "HI_df = pd.read_csv(HI_csv, header=None)\n",
    "\n",
    "IA_csv = \"./Data/States3/IA.csv\"\n",
    "IA_df = pd.read_csv(IA_csv, header=None)\n",
    "\n",
    "ID_csv = \"./Data/States3/ID.csv\"\n",
    "ID_df = pd.read_csv(ID_csv, header=None)\n",
    "\n",
    "IL_csv = \"./Data/States3/IL.csv\"\n",
    "IL_df = pd.read_csv(IL_csv, header=None)\n",
    "\n",
    "IN_csv = \"./Data/States3/IN.csv\"\n",
    "IN_df = pd.read_csv(IN_csv, header=None)\n",
    "\n",
    "KS_csv = \"./Data/States3/KS.csv\"\n",
    "KS_df = pd.read_csv(KS_csv, header=None)"
   ]
  },
  {
   "cell_type": "code",
   "execution_count": 16,
   "metadata": {},
   "outputs": [
    {
     "name": "stdout",
     "output_type": "stream",
     "text": [
      "1231720\n"
     ]
    }
   ],
   "source": [
    "print(KY_df.shape[0]+LA_df.shape[0]+MA_df.shape[0]+GA_df.shape[0]+HI_df.shape[0]+IA_df.shape[0]+ID_df.shape[0]+IL_df.shape[0]+IN_df.shape[0]+KS_df.shape[0])"
   ]
  },
  {
   "cell_type": "code",
   "execution_count": 17,
   "metadata": {},
   "outputs": [
    {
     "data": {
      "text/plain": [
       "(1231720, 5)"
      ]
     },
     "execution_count": 17,
     "metadata": {},
     "output_type": "execute_result"
    }
   ],
   "source": [
    "base_merge2_pd = pd.merge(KY_df,LA_df,how=\"outer\").merge(MA_df,how=\"outer\").merge(GA_df,how=\"outer\").merge(HI_df,how=\"outer\").merge(IA_df,how=\"outer\").merge(ID_df,how=\"outer\").merge(IL_df,how=\"outer\").merge(IN_df,how=\"outer\").merge(KS_df,how=\"outer\")\n",
    "base_merge2_pd.shape"
   ]
  },
  {
   "cell_type": "code",
   "execution_count": 18,
   "metadata": {},
   "outputs": [],
   "source": [
    "merge2_pd=base_merge2_pd[base_merge2_pd[2]>=1959]"
   ]
  },
  {
   "cell_type": "code",
   "execution_count": 19,
   "metadata": {},
   "outputs": [],
   "source": [
    "merge2_pd.to_csv(\"./Data/11-20.csv\",index=False, header=False)"
   ]
  },
  {
   "cell_type": "code",
   "execution_count": 20,
   "metadata": {},
   "outputs": [],
   "source": [
    "TN_csv = \"./Data/States4/TN.csv\"\n",
    "TN_df = pd.read_csv(TN_csv, header=None)\n",
    "\n",
    "TX_csv = \"./Data/States4/TX.csv\"\n",
    "TX_df = pd.read_csv(TX_csv, header=None)\n",
    "\n",
    "UT_csv = \"./Data/States4/UT.csv\"\n",
    "UT_df = pd.read_csv(UT_csv, header=None)\n",
    "\n",
    "VA_csv = \"./Data/States4/VA.csv\"\n",
    "VA_df = pd.read_csv(VA_csv, header=None)\n",
    "\n",
    "VT_csv = \"./Data/States4/VT.csv\"\n",
    "VT_df = pd.read_csv(VT_csv, header=None)\n",
    "\n",
    "WA_csv = \"./Data/States4/WA.csv\"\n",
    "WA_df = pd.read_csv(WA_csv, header=None)\n",
    "\n",
    "WI_csv = \"./Data/States4/WI.csv\"\n",
    "WI_df = pd.read_csv(WI_csv, header=None)\n",
    "\n",
    "WV_csv = \"./Data/States4/WV.csv\"\n",
    "WV_df = pd.read_csv(WV_csv, header=None)\n",
    "\n",
    "WY_csv = \"./Data/States4/WY.csv\"\n",
    "WY_df = pd.read_csv(WY_csv, header=None)\n",
    "\n",
    "SC_csv = \"./Data/States4/SC.csv\"\n",
    "SC_df = pd.read_csv(SC_csv, header=None)\n",
    "\n",
    "SD_csv = \"./Data/States4/SD.csv\"\n",
    "SD_df = pd.read_csv(SD_csv, header=None)"
   ]
  },
  {
   "cell_type": "code",
   "execution_count": 21,
   "metadata": {},
   "outputs": [
    {
     "data": {
      "text/plain": [
       "(1229791, 5)"
      ]
     },
     "execution_count": 21,
     "metadata": {},
     "output_type": "execute_result"
    }
   ],
   "source": [
    "base_merge5_pd = pd.merge(TN_df,TX_df,how=\"outer\").merge(UT_df,how=\"outer\").merge(VA_df,how=\"outer\").merge(VT_df,how=\"outer\").merge(WA_df,how=\"outer\").merge(WI_df,how=\"outer\").merge(WV_df,how=\"outer\").merge(WY_df,how=\"outer\").merge(SC_df,how=\"outer\").merge(SD_df,how=\"outer\")\n",
    "base_merge5_pd.shape"
   ]
  },
  {
   "cell_type": "code",
   "execution_count": 22,
   "metadata": {},
   "outputs": [],
   "source": [
    "merge5_pd=base_merge5_pd[base_merge5_pd[2]>=1959]"
   ]
  },
  {
   "cell_type": "code",
   "execution_count": 23,
   "metadata": {},
   "outputs": [],
   "source": [
    "merge5_pd.to_csv(\"./Data/41-50.csv\",index=False, header=False)"
   ]
  },
  {
   "cell_type": "code",
   "execution_count": 24,
   "metadata": {},
   "outputs": [],
   "source": [
    "AK_csv = \"./Data/States5/AK.csv\"\n",
    "AK_df = pd.read_csv(AK_csv, header=None)\n",
    "\n",
    "AL_csv = \"./Data/States5/AL.csv\"\n",
    "AL_df = pd.read_csv(AL_csv, header=None)\n",
    "\n",
    "AR_csv = \"./Data/States5/AR.csv\"\n",
    "AR_df = pd.read_csv(AR_csv, header=None)\n",
    "\n",
    "AZ_csv = \"./Data/States5/AZ.csv\"\n",
    "AZ_df = pd.read_csv(AZ_csv, header=None)\n",
    "\n",
    "CA_csv = \"./Data/States5/CA.csv\"\n",
    "CA_df = pd.read_csv(CA_csv, header=None)\n",
    "\n",
    "CO_csv = \"./Data/States5/CO.csv\"\n",
    "CO_df = pd.read_csv(CO_csv, header=None)\n",
    "\n",
    "CT_csv = \"./Data/States5/CT.csv\"\n",
    "CT_df = pd.read_csv(CT_csv, header=None)\n",
    "\n",
    "DE_csv = \"./Data/States5/DE.csv\"\n",
    "DE_df = pd.read_csv(DE_csv, header=None)\n",
    "\n",
    "FL_csv = \"./Data/States5/FL.csv\"\n",
    "FL_df = pd.read_csv(FL_csv, header=None)"
   ]
  },
  {
   "cell_type": "code",
   "execution_count": 25,
   "metadata": {},
   "outputs": [
    {
     "data": {
      "text/plain": [
       "(1186524, 5)"
      ]
     },
     "execution_count": 25,
     "metadata": {},
     "output_type": "execute_result"
    }
   ],
   "source": [
    "base_merge1_pd = pd.merge(AK_df,AL_df,how=\"outer\").merge(AR_df,how=\"outer\").merge(AZ_df,how=\"outer\").merge(CA_df,how=\"outer\").merge(CO_df,how=\"outer\").merge(CT_df,how=\"outer\").merge(DE_df,how=\"outer\").merge(FL_df,how=\"outer\")\n",
    "base_merge1_pd.shape"
   ]
  },
  {
   "cell_type": "code",
   "execution_count": 26,
   "metadata": {},
   "outputs": [],
   "source": [
    "merge1_pd=base_merge1_pd[base_merge1_pd[2]>=1959]"
   ]
  },
  {
   "cell_type": "code",
   "execution_count": 27,
   "metadata": {},
   "outputs": [],
   "source": [
    "merge1_pd.to_csv(\"./Data/1-10.csv\",index=False, header=False)"
   ]
  },
  {
   "cell_type": "code",
   "execution_count": 28,
   "metadata": {},
   "outputs": [
    {
     "name": "stdout",
     "output_type": "stream",
     "text": [
      "(4147310, 5)\n"
     ]
    }
   ],
   "source": [
    "allstates_pd = pd.merge(merge1_pd,merge2_pd,how=\"outer\").merge(merge3_pd,how=\"outer\").merge(merge4_pd,how=\"outer\").merge(merge5_pd,how=\"outer\")\n",
    "print(allstates_pd.shape)"
   ]
  },
  {
   "cell_type": "code",
   "execution_count": 29,
   "metadata": {},
   "outputs": [],
   "source": [
    "allstates_pd.to_csv(\"./Data/allstates.csv\",index=False, header=False)"
   ]
  }
 ],
 "metadata": {
  "kernelspec": {
   "display_name": "Python 3",
   "language": "python",
   "name": "python3"
  },
  "language_info": {
   "codemirror_mode": {
    "name": "ipython",
    "version": 3
   },
   "file_extension": ".py",
   "mimetype": "text/x-python",
   "name": "python",
   "nbconvert_exporter": "python",
   "pygments_lexer": "ipython3",
   "version": "3.6.7"
  }
 },
 "nbformat": 4,
 "nbformat_minor": 2
}
