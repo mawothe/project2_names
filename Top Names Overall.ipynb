{
 "cells": [
  {
   "cell_type": "code",
   "execution_count": 1,
   "metadata": {},
   "outputs": [],
   "source": [
    "import pandas as pd"
   ]
  },
  {
   "cell_type": "code",
   "execution_count": 2,
   "metadata": {},
   "outputs": [],
   "source": [
    "#Top_5_csv = \"./Data/Top_5.csv\"\n",
    "#Starting_pd = pd.read_csv(Top_5_csv)\n",
    "#Starting_pd.head()\n",
    "#State_names=[\"TN\",\"TX\",\"UT\",\"VA\",\"VT\",\"WA\",\"WI\",\"WV\",\"WY\",\"SC\",\"SD\",\"NH\",\"NJ\",\"NM\",\"NV\",\"NY\",\"OH\",\"OK\",\"OR\",\"PA\",\"RI\",\"MD\",\"ME\",\"MI\",\"MN\",\"MO\",\"MS\",\"MT\",\"NC\",\"ND\",\"NE\",\"GA\",\"HI\",\"IA\",\"ID\",\"IL\",\"IN\",\"KS\",\"KY\",\"LA\",\"MA\",\"AK\",\"AL\",\"AR\",\"AZ\",\"CA\",\"CO\",\"CT\",\"DE\",\"FL\"]"
   ]
  },
  {
   "cell_type": "code",
   "execution_count": 3,
   "metadata": {},
   "outputs": [],
   "source": [
    "#Final_df = pd.DataFrame(columns=[\"state\",\"gender\",\"year\",\"name\",\"amount\"])\n",
    "#for y in range(len(State_names)):\n",
    "#    placeholder_df=Starting_pd[Starting_pd[\"state\"]==State_names[y]].nlargest(5,\"amount\")\n",
    "#    Final_df = pd.merge(Final_df, placeholder_df, how=\"outer\")"
   ]
  },
  {
   "cell_type": "code",
   "execution_count": 4,
   "metadata": {},
   "outputs": [],
   "source": [
    "#Final_df.to_csv(\"./Data/Bubble_Data.csv\",index=False)"
   ]
  },
  {
   "cell_type": "code",
   "execution_count": 5,
   "metadata": {},
   "outputs": [],
   "source": [
    "Allstates_csv = \"./Data/allstates.csv\"\n",
    "Full_dataset_pd = pd.read_csv(Allstates_csv)\n",
    "Full_dataset_pd.columns=[\"state\",\"gender\",\"year\",\"name\",\"amount\"]"
   ]
  },
  {
   "cell_type": "code",
   "execution_count": 6,
   "metadata": {},
   "outputs": [],
   "source": [
    "State_names=[\"TN\",\"TX\",\"UT\",\"VA\",\"VT\",\"WA\",\"WI\",\"WV\",\"WY\",\"SC\",\"SD\",\"NH\",\"NJ\",\"NM\",\"NV\",\"NY\",\"OH\",\"OK\",\"OR\",\"PA\",\"RI\",\"MD\",\"ME\",\"MI\",\"MN\",\"MO\",\"MS\",\"MT\",\"NC\",\"ND\",\"NE\",\"GA\",\"HI\",\"IA\",\"ID\",\"IL\",\"IN\",\"KS\",\"KY\",\"LA\",\"MA\",\"AK\",\"AL\",\"AR\",\"AZ\",\"CA\",\"CO\",\"CT\",\"DE\",\"FL\"]"
   ]
  },
  {
   "cell_type": "code",
   "execution_count": 7,
   "metadata": {},
   "outputs": [],
   "source": [
    "#Names_pd=Full_dataset_pd.groupby([\"state\",\"gender\",\"name\"])[\"amount\"].sum().reset_index()\n",
    "#Names_pd.head()"
   ]
  },
  {
   "cell_type": "code",
   "execution_count": 8,
   "metadata": {},
   "outputs": [],
   "source": [
    "#Final_df = pd.DataFrame(columns=[\"state\",\"gender\",\"name\",\"amount\"])\n",
    "#for y in range(len(State_names)):\n",
    "#    placeholder_df=Names_pd[Names_pd[\"state\"]==State_names[y]]\n",
    "#    Final_df = pd.merge(Final_df, placeholder_df, how=\"outer\")"
   ]
  },
  {
   "cell_type": "code",
   "execution_count": 9,
   "metadata": {},
   "outputs": [],
   "source": [
    "#Final_df.to_csv(\"./Data/Bubble_Data.csv\",index=False)"
   ]
  },
  {
   "cell_type": "code",
   "execution_count": 10,
   "metadata": {},
   "outputs": [],
   "source": [
    "Male_pd=Full_dataset_pd[Full_dataset_pd[\"gender\"]==\"M\"]\n",
    "Female_pd=Full_dataset_pd[Full_dataset_pd[\"gender\"]==\"F\"]\n",
    "Male_Names_pd=Male_pd.groupby([\"state\",\"gender\",\"name\"])[\"amount\"].sum().reset_index()\n",
    "Female_Names_pd=Female_pd.groupby([\"state\",\"gender\",\"name\"])[\"amount\"].sum().reset_index()"
   ]
  },
  {
   "cell_type": "code",
   "execution_count": 11,
   "metadata": {},
   "outputs": [],
   "source": [
    "Male_Final_df = pd.DataFrame(columns=[\"state\",\"gender\",\"name\",\"amount\"])\n",
    "for y in range(len(State_names)):\n",
    "    placeholder_df=Male_Names_pd[Male_Names_pd[\"state\"]==State_names[y]].nlargest(5,\"amount\")\n",
    "    Male_Final_df = pd.merge(Male_Final_df, placeholder_df, how=\"outer\")\n",
    "    \n",
    "Female_Final_df = pd.DataFrame(columns=[\"state\",\"gender\",\"name\",\"amount\"])\n",
    "for y in range(len(State_names)):\n",
    "    placeholder_df=Female_Names_pd[Female_Names_pd[\"state\"]==State_names[y]].nlargest(5,\"amount\")\n",
    "    Female_Final_df = pd.merge(Female_Final_df, placeholder_df, how=\"outer\")"
   ]
  },
  {
   "cell_type": "code",
   "execution_count": 12,
   "metadata": {},
   "outputs": [],
   "source": [
    "Final_df = pd.merge(Female_Final_df, Male_Final_df, how=\"outer\")\n",
    "Final_df.to_csv(\"./Data/Bubble_Data.csv\",index=False)"
   ]
  }
 ],
 "metadata": {
  "kernelspec": {
   "display_name": "Python 3",
   "language": "python",
   "name": "python3"
  },
  "language_info": {
   "codemirror_mode": {
    "name": "ipython",
    "version": 3
   },
   "file_extension": ".py",
   "mimetype": "text/x-python",
   "name": "python",
   "nbconvert_exporter": "python",
   "pygments_lexer": "ipython3",
   "version": "3.6.8"
  }
 },
 "nbformat": 4,
 "nbformat_minor": 2
}
